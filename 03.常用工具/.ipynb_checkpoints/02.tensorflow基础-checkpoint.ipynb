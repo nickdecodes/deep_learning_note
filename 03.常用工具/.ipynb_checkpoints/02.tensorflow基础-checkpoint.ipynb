{
 "cells": [
  {
   "cell_type": "code",
   "execution_count": 48,
   "id": "74d7df4c",
   "metadata": {},
   "outputs": [],
   "source": [
    "import tensorflow as tf\n",
    "import numpy as np"
   ]
  },
  {
   "cell_type": "markdown",
   "id": "51c227b8",
   "metadata": {},
   "source": [
    "数据类型"
   ]
  },
  {
   "cell_type": "code",
   "execution_count": 22,
   "id": "db4b2e9c",
   "metadata": {},
   "outputs": [
    {
     "data": {
      "text/plain": [
       "<tf.Tensor: shape=(), dtype=int32, numpy=1>"
      ]
     },
     "execution_count": 22,
     "metadata": {},
     "output_type": "execute_result"
    }
   ],
   "source": [
    "# 创建常量\n",
    "tf.constant(1)"
   ]
  },
  {
   "cell_type": "code",
   "execution_count": 23,
   "id": "39e001de",
   "metadata": {},
   "outputs": [
    {
     "data": {
      "text/plain": [
       "<tf.Tensor: shape=(), dtype=float32, numpy=1.0>"
      ]
     },
     "execution_count": 23,
     "metadata": {},
     "output_type": "execute_result"
    }
   ],
   "source": [
    "# 创建浮点型常量\n",
    "tf.constant(1.)"
   ]
  },
  {
   "cell_type": "code",
   "execution_count": 25,
   "id": "372a7dd2",
   "metadata": {},
   "outputs": [
    {
     "data": {
      "text/plain": [
       "<tf.Tensor: shape=(), dtype=float64, numpy=2.0>"
      ]
     },
     "execution_count": 25,
     "metadata": {},
     "output_type": "execute_result"
    }
   ],
   "source": [
    "# TypeError: Cannot convert 2.2 to EagerTensor of dtype int32\n",
    "# tf.constant(2.2, dtype=tf.int32)\n",
    "# right\n",
    "tf.constant(2., dtype=tf.double)"
   ]
  },
  {
   "cell_type": "code",
   "execution_count": 26,
   "id": "3554ea78",
   "metadata": {},
   "outputs": [
    {
     "data": {
      "text/plain": [
       "<tf.Tensor: shape=(2,), dtype=bool, numpy=array([ True, False])>"
      ]
     },
     "execution_count": 26,
     "metadata": {},
     "output_type": "execute_result"
    }
   ],
   "source": [
    "# 布尔值常量\n",
    "tf.constant([True, False])"
   ]
  },
  {
   "cell_type": "code",
   "execution_count": 27,
   "id": "5288e123",
   "metadata": {},
   "outputs": [
    {
     "data": {
      "text/plain": [
       "<tf.Tensor: shape=(), dtype=string, numpy=b'hello,world'>"
      ]
     },
     "execution_count": 27,
     "metadata": {},
     "output_type": "execute_result"
    }
   ],
   "source": [
    "# 字符串常量\n",
    "tf.constant('hello,world')"
   ]
  },
  {
   "cell_type": "code",
   "execution_count": 34,
   "id": "1ca4db39",
   "metadata": {},
   "outputs": [],
   "source": [
    "a = tf.constant([1.])\n",
    "b = tf.constant([True, False])\n",
    "c = tf.constant('hello,world')\n",
    "d = np.arange(4)"
   ]
  },
  {
   "cell_type": "code",
   "execution_count": 36,
   "id": "3b2a26eb",
   "metadata": {},
   "outputs": [
    {
     "data": {
      "text/plain": [
       "True"
      ]
     },
     "execution_count": 36,
     "metadata": {},
     "output_type": "execute_result"
    }
   ],
   "source": [
    "isinstance(a, tf.Tensor)"
   ]
  },
  {
   "cell_type": "code",
   "execution_count": 38,
   "id": "4acf5e28",
   "metadata": {},
   "outputs": [
    {
     "data": {
      "text/plain": [
       "True"
      ]
     },
     "execution_count": 38,
     "metadata": {},
     "output_type": "execute_result"
    }
   ],
   "source": [
    "tf.is_tensor(b)"
   ]
  },
  {
   "cell_type": "code",
   "execution_count": 40,
   "id": "8d40e302",
   "metadata": {},
   "outputs": [
    {
     "data": {
      "text/plain": [
       "False"
      ]
     },
     "execution_count": 40,
     "metadata": {},
     "output_type": "execute_result"
    }
   ],
   "source": [
    "tf.is_tensor(d)"
   ]
  },
  {
   "cell_type": "code",
   "execution_count": 42,
   "id": "2f4beb22",
   "metadata": {},
   "outputs": [
    {
     "data": {
      "text/plain": [
       "(tf.float32, tf.bool, tf.string)"
      ]
     },
     "execution_count": 42,
     "metadata": {},
     "output_type": "execute_result"
    }
   ],
   "source": [
    "a.dtype, b.dtype, c.dtype"
   ]
  },
  {
   "cell_type": "code",
   "execution_count": 45,
   "id": "982bd9ba",
   "metadata": {},
   "outputs": [
    {
     "data": {
      "text/plain": [
       "True"
      ]
     },
     "execution_count": 45,
     "metadata": {},
     "output_type": "execute_result"
    }
   ],
   "source": [
    "a.dtype == tf.float32"
   ]
  },
  {
   "cell_type": "code",
   "execution_count": 47,
   "id": "cd4e375e",
   "metadata": {},
   "outputs": [
    {
     "data": {
      "text/plain": [
       "True"
      ]
     },
     "execution_count": 47,
     "metadata": {},
     "output_type": "execute_result"
    }
   ],
   "source": [
    "c.dtype == tf.string"
   ]
  },
  {
   "cell_type": "markdown",
   "id": "20314247",
   "metadata": {},
   "source": [
    "数据转换"
   ]
  },
  {
   "cell_type": "code",
   "execution_count": 50,
   "id": "d885f645",
   "metadata": {},
   "outputs": [
    {
     "data": {
      "text/plain": [
       "dtype('int64')"
      ]
     },
     "execution_count": 50,
     "metadata": {},
     "output_type": "execute_result"
    }
   ],
   "source": [
    "a = np.arange(5)\n",
    "a.dtype"
   ]
  },
  {
   "cell_type": "code",
   "execution_count": 55,
   "id": "52a2ff98",
   "metadata": {},
   "outputs": [
    {
     "name": "stdout",
     "output_type": "stream",
     "text": [
      "tf.Tensor([0 1 2 3 4], shape=(5,), dtype=int64)\n"
     ]
    }
   ],
   "source": [
    "# numpy转换成tensor\n",
    "aa = tf.convert_to_tensor(a)\n",
    "print(aa)"
   ]
  },
  {
   "cell_type": "code",
   "execution_count": 57,
   "id": "048fd07f",
   "metadata": {},
   "outputs": [
    {
     "name": "stdout",
     "output_type": "stream",
     "text": [
      "tf.Tensor([0 1 2 3 4], shape=(5,), dtype=int32)\n"
     ]
    }
   ],
   "source": [
    "# numpy转换成指定类型\n",
    "aa = tf.convert_to_tensor(a, dtype=tf.int32)\n",
    "print(aa)"
   ]
  },
  {
   "cell_type": "code",
   "execution_count": 59,
   "id": "b620ea34",
   "metadata": {},
   "outputs": [
    {
     "data": {
      "text/plain": [
       "<tf.Tensor: shape=(5,), dtype=float32, numpy=array([0., 1., 2., 3., 4.], dtype=float32)>"
      ]
     },
     "execution_count": 59,
     "metadata": {},
     "output_type": "execute_result"
    }
   ],
   "source": [
    "# tensor转换成tensor\n",
    "tf.cast(aa, dtype=tf.float32)"
   ]
  },
  {
   "cell_type": "code",
   "execution_count": 63,
   "id": "a6e9d1cb",
   "metadata": {},
   "outputs": [
    {
     "name": "stdout",
     "output_type": "stream",
     "text": [
      "tf.Tensor([0. 1. 2. 3. 4.], shape=(5,), dtype=float64)\n"
     ]
    },
    {
     "data": {
      "text/plain": [
       "<tf.Tensor: shape=(5,), dtype=int32, numpy=array([0, 1, 2, 3, 4], dtype=int32)>"
      ]
     },
     "execution_count": 63,
     "metadata": {},
     "output_type": "execute_result"
    }
   ],
   "source": [
    "# tensor转换成tensor(double)\n",
    "aaa = tf.cast(aa, dtype=tf.double)\n",
    "print(aaa)\n",
    "tf.cast(aaa, dtype=tf.int32)"
   ]
  },
  {
   "cell_type": "markdown",
   "id": "9393fadf",
   "metadata": {},
   "source": [
    "创建数据"
   ]
  },
  {
   "cell_type": "code",
   "execution_count": 65,
   "id": "8276d468",
   "metadata": {},
   "outputs": [
    {
     "data": {
      "text/plain": [
       "<tf.Tensor: shape=(), dtype=float32, numpy=0.0>"
      ]
     },
     "execution_count": 65,
     "metadata": {},
     "output_type": "execute_result"
    }
   ],
   "source": [
    "tf.zeros([])"
   ]
  },
  {
   "cell_type": "code",
   "execution_count": 67,
   "id": "edce4758",
   "metadata": {},
   "outputs": [
    {
     "data": {
      "text/plain": [
       "<tf.Tensor: shape=(1,), dtype=float32, numpy=array([0.], dtype=float32)>"
      ]
     },
     "execution_count": 67,
     "metadata": {},
     "output_type": "execute_result"
    }
   ],
   "source": [
    "tf.zeros([1])"
   ]
  },
  {
   "cell_type": "code",
   "execution_count": 69,
   "id": "3ef8e931",
   "metadata": {},
   "outputs": [
    {
     "data": {
      "text/plain": [
       "<tf.Tensor: shape=(2, 2), dtype=float32, numpy=\n",
       "array([[0., 0.],\n",
       "       [0., 0.]], dtype=float32)>"
      ]
     },
     "execution_count": 69,
     "metadata": {},
     "output_type": "execute_result"
    }
   ],
   "source": [
    "tf.zeros([2, 2])"
   ]
  },
  {
   "cell_type": "code",
   "execution_count": 71,
   "id": "a8637b99",
   "metadata": {},
   "outputs": [
    {
     "data": {
      "text/plain": [
       "<tf.Tensor: shape=(2, 3, 3), dtype=float32, numpy=\n",
       "array([[[0., 0., 0.],\n",
       "        [0., 0., 0.],\n",
       "        [0., 0., 0.]],\n",
       "\n",
       "       [[0., 0., 0.],\n",
       "        [0., 0., 0.],\n",
       "        [0., 0., 0.]]], dtype=float32)>"
      ]
     },
     "execution_count": 71,
     "metadata": {},
     "output_type": "execute_result"
    }
   ],
   "source": [
    "tf.zeros([2,3,3])"
   ]
  },
  {
   "cell_type": "code",
   "execution_count": 86,
   "id": "9f4a5107",
   "metadata": {},
   "outputs": [
    {
     "data": {
      "text/plain": [
       "<tf.Tensor: shape=(5,), dtype=int64, numpy=array([0, 0, 0, 0, 0])>"
      ]
     },
     "execution_count": 86,
     "metadata": {},
     "output_type": "execute_result"
    }
   ],
   "source": [
    "tf.zeros_like(a)"
   ]
  },
  {
   "cell_type": "code",
   "execution_count": 78,
   "id": "f15dbe4b",
   "metadata": {},
   "outputs": [
    {
     "data": {
      "text/plain": [
       "<tf.Tensor: shape=(1,), dtype=float32, numpy=array([1.], dtype=float32)>"
      ]
     },
     "execution_count": 78,
     "metadata": {},
     "output_type": "execute_result"
    }
   ],
   "source": [
    "tf.ones(1)"
   ]
  },
  {
   "cell_type": "code",
   "execution_count": 80,
   "id": "9e3ae9f9",
   "metadata": {},
   "outputs": [
    {
     "data": {
      "text/plain": [
       "<tf.Tensor: shape=(), dtype=float32, numpy=1.0>"
      ]
     },
     "execution_count": 80,
     "metadata": {},
     "output_type": "execute_result"
    }
   ],
   "source": [
    "tf.ones([])"
   ]
  },
  {
   "cell_type": "code",
   "execution_count": 82,
   "id": "c8fb7af7",
   "metadata": {},
   "outputs": [
    {
     "data": {
      "text/plain": [
       "<tf.Tensor: shape=(2,), dtype=float32, numpy=array([1., 1.], dtype=float32)>"
      ]
     },
     "execution_count": 82,
     "metadata": {},
     "output_type": "execute_result"
    }
   ],
   "source": [
    "tf.ones([2])"
   ]
  },
  {
   "cell_type": "code",
   "execution_count": 84,
   "id": "37972757",
   "metadata": {},
   "outputs": [
    {
     "data": {
      "text/plain": [
       "<tf.Tensor: shape=(2, 3), dtype=float32, numpy=\n",
       "array([[1., 1., 1.],\n",
       "       [1., 1., 1.]], dtype=float32)>"
      ]
     },
     "execution_count": 84,
     "metadata": {},
     "output_type": "execute_result"
    }
   ],
   "source": [
    "tf.ones([2,3])"
   ]
  },
  {
   "cell_type": "code",
   "execution_count": 87,
   "id": "74084dac",
   "metadata": {},
   "outputs": [
    {
     "data": {
      "text/plain": [
       "<tf.Tensor: shape=(5,), dtype=int64, numpy=array([1, 1, 1, 1, 1])>"
      ]
     },
     "execution_count": 87,
     "metadata": {},
     "output_type": "execute_result"
    }
   ],
   "source": [
    "tf.ones_like(a)"
   ]
  },
  {
   "cell_type": "markdown",
   "id": "d44139de",
   "metadata": {},
   "source": [
    "正态分布数据"
   ]
  },
  {
   "cell_type": "code",
   "execution_count": 89,
   "id": "e9d9c7ea",
   "metadata": {},
   "outputs": [
    {
     "data": {
      "text/plain": [
       "<tf.Tensor: shape=(2, 2), dtype=float32, numpy=\n",
       "array([[1.4928519 , 0.77440727],\n",
       "       [2.3553817 , 0.8622974 ]], dtype=float32)>"
      ]
     },
     "execution_count": 89,
     "metadata": {},
     "output_type": "execute_result"
    }
   ],
   "source": [
    "tf.random.normal([2,2], mean=1, stddev=1)"
   ]
  },
  {
   "cell_type": "code",
   "execution_count": 91,
   "id": "cb46d42c",
   "metadata": {},
   "outputs": [
    {
     "data": {
      "text/plain": [
       "<tf.Tensor: shape=(2, 2), dtype=float32, numpy=\n",
       "array([[ 0.95478016, -1.2035152 ],\n",
       "       [ 0.2310634 , -0.5513715 ]], dtype=float32)>"
      ]
     },
     "execution_count": 91,
     "metadata": {},
     "output_type": "execute_result"
    }
   ],
   "source": [
    "tf.random.normal([2,2])"
   ]
  },
  {
   "cell_type": "code",
   "execution_count": 93,
   "id": "efea2645",
   "metadata": {},
   "outputs": [
    {
     "data": {
      "text/plain": [
       "<tf.Tensor: shape=(2, 2), dtype=float32, numpy=\n",
       "array([[ 0.5856271 , -1.1888096 ],\n",
       "       [ 0.34996533, -0.28206256]], dtype=float32)>"
      ]
     },
     "execution_count": 93,
     "metadata": {},
     "output_type": "execute_result"
    }
   ],
   "source": [
    "tf.random.truncated_normal([2,2], mean=0, stddev=1)"
   ]
  },
  {
   "cell_type": "markdown",
   "id": "2a25894a",
   "metadata": {},
   "source": [
    "均匀分布数据"
   ]
  },
  {
   "cell_type": "code",
   "execution_count": 95,
   "id": "d45d04c0",
   "metadata": {},
   "outputs": [
    {
     "data": {
      "text/plain": [
       "<tf.Tensor: shape=(2, 2), dtype=float32, numpy=\n",
       "array([[0.10558832, 0.7742716 ],\n",
       "       [0.50804627, 0.4299047 ]], dtype=float32)>"
      ]
     },
     "execution_count": 95,
     "metadata": {},
     "output_type": "execute_result"
    }
   ],
   "source": [
    "tf.random.uniform([2,2], minval=0, maxval=1)"
   ]
  },
  {
   "cell_type": "code",
   "execution_count": 97,
   "id": "5efe636c",
   "metadata": {},
   "outputs": [
    {
     "data": {
      "text/plain": [
       "<tf.Tensor: shape=(2, 2), dtype=float32, numpy=\n",
       "array([[37.942635, 77.75798 ],\n",
       "       [50.54674 , 80.104614]], dtype=float32)>"
      ]
     },
     "execution_count": 97,
     "metadata": {},
     "output_type": "execute_result"
    }
   ],
   "source": [
    "tf.random.uniform([2,2], minval=0, maxval=100)"
   ]
  },
  {
   "cell_type": "markdown",
   "id": "92952455",
   "metadata": {},
   "source": [
    "数据打散"
   ]
  },
  {
   "cell_type": "code",
   "execution_count": 101,
   "id": "d1a86985",
   "metadata": {},
   "outputs": [
    {
     "name": "stdout",
     "output_type": "stream",
     "text": [
      "tf.Tensor([4 7 9 0 8 1 2 3 5 6], shape=(10,), dtype=int32)\n"
     ]
    }
   ],
   "source": [
    "idx = tf.range(10)\n",
    "idx = tf.random.shuffle(idx)\n",
    "print(idx)"
   ]
  },
  {
   "cell_type": "code",
   "execution_count": 103,
   "id": "c5e9b1c3",
   "metadata": {},
   "outputs": [
    {
     "name": "stdout",
     "output_type": "stream",
     "text": [
      "tf.Tensor([6 4 4 4 9 7 7 1 9 0], shape=(10,), dtype=int32)\n"
     ]
    }
   ],
   "source": [
    "a = tf.random.normal([10,784])\n",
    "b = tf.random.uniform([10], maxval=10, dtype=tf.int32)\n",
    "print(b)"
   ]
  },
  {
   "cell_type": "code",
   "execution_count": 104,
   "id": "b0dfccf9",
   "metadata": {},
   "outputs": [
    {
     "name": "stdout",
     "output_type": "stream",
     "text": [
      "tf.Tensor([9 1 0 6 9 4 4 4 7 7], shape=(10,), dtype=int32)\n"
     ]
    }
   ],
   "source": [
    "a = tf.gather(a, idx)\n",
    "b = tf.gather(b, idx)\n",
    "print(b)"
   ]
  }
 ],
 "metadata": {
  "kernelspec": {
   "display_name": "Python 3 (ipykernel)",
   "language": "python",
   "name": "python3"
  },
  "language_info": {
   "codemirror_mode": {
    "name": "ipython",
    "version": 3
   },
   "file_extension": ".py",
   "mimetype": "text/x-python",
   "name": "python",
   "nbconvert_exporter": "python",
   "pygments_lexer": "ipython3",
   "version": "3.9.7"
  }
 },
 "nbformat": 4,
 "nbformat_minor": 5
}
